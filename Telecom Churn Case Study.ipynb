{
 "cells": [
  {
   "cell_type": "markdown",
   "metadata": {},
   "source": [
    "### Problem Statement ###\n",
    "\n",
    "In the telecom industry, customers are able to choose from multiple service providers and actively switch from one operator to another. In this highly competitive market, the telecommunications industry experiences an average of 15-25% annual churn rate. Given the fact that it costs 5-10 times more to acquire a new customer than to retain an existing one, customer retention has now become even more important than customer acquisition.o reduce customer churn, telecom companies need to predict which customers are at high risk of churn.\n",
    "\n",
    "**Churn Phases**\n",
    "- In ‘good’ phase the customer is happy with the service and behaves as usual\n",
    "- In ‘action’ phase The customer experience starts to sore in this phase\n",
    "- In ‘churn’ phase the customer is said to have churned\n",
    "\n",
    "#### Business Goal ####\n",
    "\n",
    "In this project, you will analyse customer-level data of a leading telecom firm, build predictive models to identify customers at high risk of churn and identify the main indicators of churn.\n",
    "\n",
    "#### Outcomes ####\n",
    "\n",
    "- Predict churn only on high-value customers\n",
    "- Predict usage-based definition to define churn\n"
   ]
  },
  {
   "cell_type": "markdown",
   "metadata": {},
   "source": [
    "### Step 1: Data Exploration"
   ]
  },
  {
   "cell_type": "code",
   "execution_count": null,
   "metadata": {},
   "outputs": [],
   "source": [
    "# Suppressing Warnings\n",
    "import warnings\n",
    "warnings.filterwarnings('ignore')\n"
   ]
  },
  {
   "cell_type": "code",
   "execution_count": null,
   "metadata": {},
   "outputs": [],
   "source": [
    "# Importing Modules\n",
    "import pandas as pd\n",
    "import numpy as np\n",
    "import matplotlib.pyplot as plt\n",
    "import seaborn as sns\n",
    "pd.set_option('display.max_colwidth', None)\n",
    "pd.set_option('display.max_rows', 250)\n",
    "pd.set_option('display.max_columns', None)\n",
    "pd.set_option('float_format', '{:.2f}'.format)\n",
    "\n",
    "\n",
    "plt.style.use('fivethirtyeight')"
   ]
  },
  {
   "cell_type": "code",
   "execution_count": null,
   "metadata": {},
   "outputs": [],
   "source": [
    "telecom_df = pd.read_csv('telecom_churn_data.csv')"
   ]
  },
  {
   "cell_type": "code",
   "execution_count": null,
   "metadata": {},
   "outputs": [],
   "source": [
    "# Let's see the head of our master dataset\n",
    "telecom_df.head()"
   ]
  },
  {
   "cell_type": "code",
   "execution_count": null,
   "metadata": {},
   "outputs": [],
   "source": [
    "# Let's check the dimensions of the dataframe\n",
    "telecom_df.shape"
   ]
  },
  {
   "cell_type": "code",
   "execution_count": null,
   "metadata": {},
   "outputs": [],
   "source": [
    "# let's look at the statistical aspects of the dataframe\n",
    "telecom_df.describe(include='all')"
   ]
  },
  {
   "cell_type": "code",
   "execution_count": null,
   "metadata": {},
   "outputs": [],
   "source": [
    "# Let's see the type of each column\n",
    "telecom_df.info(verbose=True)"
   ]
  },
  {
   "cell_type": "code",
   "execution_count": null,
   "metadata": {},
   "outputs": [],
   "source": [
    "## Below columns are breaking the convention. So we will rename them appropriately\n",
    "vbc_cols = [col for col in telecom_df.columns if 'vbc' in col]\n",
    "print(vbc_cols)"
   ]
  },
  {
   "cell_type": "code",
   "execution_count": null,
   "metadata": {},
   "outputs": [],
   "source": [
    "telecom_df.rename(columns = {'jun_vbc_3g': 'vbc_3g_6', 'jul_vbc_3g': 'vbc_3g_7', 'aug_vbc_3g': 'vbc_3g_8', 'sep_vbc_3g': 'vbc_3g_9'}, inplace=True)"
   ]
  },
  {
   "cell_type": "code",
   "execution_count": null,
   "metadata": {},
   "outputs": [],
   "source": [
    "#DataType Correction \n",
    "object_df = telecom_df.select_dtypes(include='object')\n",
    "object_df.head()\n",
    "\n",
    "#Looks like all are datetime object"
   ]
  },
  {
   "cell_type": "code",
   "execution_count": null,
   "metadata": {},
   "outputs": [],
   "source": [
    "#convert object to date time\n",
    "\n",
    "for col in object_df.columns:\n",
    "    telecom_df[col] = pd.to_datetime(telecom_df[col])"
   ]
  },
  {
   "cell_type": "code",
   "execution_count": null,
   "metadata": {},
   "outputs": [],
   "source": [
    "telecom_df.shape"
   ]
  },
  {
   "cell_type": "markdown",
   "metadata": {},
   "source": [
    "We are now ready to cleanse the data and create a Manageable Data Set for further processing"
   ]
  },
  {
   "cell_type": "markdown",
   "metadata": {},
   "source": [
    "## Step 2 : Data Cleansing"
   ]
  },
  {
   "cell_type": "markdown",
   "metadata": {},
   "source": [
    "**Common Utility Functions**"
   ]
  },
  {
   "cell_type": "code",
   "execution_count": null,
   "metadata": {},
   "outputs": [],
   "source": [
    "# Function which returns the columns with missing values > the cutoff percentage\n",
    "# Argument: cutoff percentage between 1 - 100\n",
    "def calculate_missing_values(data, cutoff):\n",
    "    missing_percent= round(data.isna().sum() / len(data.index) * 100)\n",
    "    print(\"{} features having more than {}% missing values:\".format(len(missing_percent[missing_percent > cutoff]), cutoff))\n",
    "    return missing_percent[missing_percent > cutoff]\n",
    "\n",
    "#Function to handle missing values across months \n",
    "# Argument: Take list of column names without month number suffix \n",
    "def impute_zero_in_missing(data, columnList):\n",
    "    for feature in [col + suffix for suffix in ['_6','_7','_8','_9'] for col in columnList]:\n",
    "        if feature in data.columns:\n",
    "            data[feature].fillna(0, inplace=True)\n",
    "        \n",
    "\n",
    "#Function to drop columns across months\n",
    "def drop_columns(data,columnList):\n",
    "    for feature in [col+suffix for suffix in ['_6','_7','_8','_9'] for col in columnList]:\n",
    "        data.drop([feature],inplace=True, axis=1)"
   ]
  },
  {
   "cell_type": "markdown",
   "metadata": {},
   "source": [
    "Drop columns which have only null values"
   ]
  },
  {
   "cell_type": "code",
   "execution_count": null,
   "metadata": {},
   "outputs": [],
   "source": [
    "telecom_df[telecom_df.isnull().all(axis=1)]\n",
    "\n",
    "##Looks like there are no columns with only null values"
   ]
  },
  {
   "cell_type": "markdown",
   "metadata": {},
   "source": [
    "Drop all columns with 1 unique value "
   ]
  },
  {
   "cell_type": "code",
   "execution_count": null,
   "metadata": {},
   "outputs": [],
   "source": [
    "unique_cols = telecom_df.nunique()\n",
    "unique_cols[unique_cols == 1]"
   ]
  },
  {
   "cell_type": "code",
   "execution_count": null,
   "metadata": {},
   "outputs": [],
   "source": [
    "#Drop mobile_number as it is unique value identifying each record\n",
    "telecom_df.drop('mobile_number',inplace=True, axis=1)"
   ]
  },
  {
   "cell_type": "code",
   "execution_count": null,
   "metadata": {},
   "outputs": [],
   "source": [
    "telecom_df.drop(unique_cols[unique_cols == 1].index, inplace=True, axis=1)"
   ]
  },
  {
   "cell_type": "code",
   "execution_count": null,
   "metadata": {},
   "outputs": [],
   "source": [
    "telecom_df.shape"
   ]
  },
  {
   "cell_type": "markdown",
   "metadata": {},
   "source": [
    "Drop columns with missing values greater than 50% or impute the same"
   ]
  },
  {
   "cell_type": "code",
   "execution_count": null,
   "metadata": {},
   "outputs": [],
   "source": [
    "calculate_missing_values(telecom_df, 50)"
   ]
  },
  {
   "cell_type": "markdown",
   "metadata": {},
   "source": [
    "Impute Missing Value as 0 for all the **Recharge, Revenue, Night Pack, Fb User** Fields"
   ]
  },
  {
   "cell_type": "code",
   "execution_count": null,
   "metadata": {},
   "outputs": [],
   "source": [
    "missingValueColumnList=['total_rech_data', 'max_rech_data', 'count_rech_2g', 'count_rech_3g', 'av_rech_amt_data'\n",
    "                       , 'arpu_3g', 'arpu_2g', 'night_pck_user', 'fb_user']"
   ]
  },
  {
   "cell_type": "code",
   "execution_count": null,
   "metadata": {},
   "outputs": [],
   "source": [
    "# Since the minimum value is 1, we are going to handle NA values by imputing with 0 \n",
    "# which means we are assuming there were no recharges done by the customer\n",
    "impute_zero_in_missing(telecom_df, missingValueColumnList)"
   ]
  },
  {
   "cell_type": "code",
   "execution_count": null,
   "metadata": {},
   "outputs": [],
   "source": [
    "calculate_missing_values(telecom_df, 50)"
   ]
  },
  {
   "cell_type": "markdown",
   "metadata": {},
   "source": [
    "We will drop all features which have more than 70% missing values"
   ]
  },
  {
   "cell_type": "code",
   "execution_count": null,
   "metadata": {},
   "outputs": [],
   "source": [
    "drop_columns(telecom_df,['date_of_last_rech_data'])"
   ]
  },
  {
   "cell_type": "code",
   "execution_count": null,
   "metadata": {},
   "outputs": [],
   "source": [
    "calculate_missing_values(telecom_df, 7)"
   ]
  },
  {
   "cell_type": "code",
   "execution_count": null,
   "metadata": {},
   "outputs": [],
   "source": [
    "calculate_missing_values(telecom_df, 7)"
   ]
  },
  {
   "cell_type": "markdown",
   "metadata": {},
   "source": [
    "All columns except date columns are for the month 9 i.e the Churn phase. \n",
    "This data will be eventually dropped when we tag churn/no churn, \n",
    "hence we will be skipping imputing these fields related to month 9"
   ]
  },
  {
   "cell_type": "markdown",
   "metadata": {},
   "source": [
    "### Step 3: Data Preparation ###\n",
    "\n",
    "**Filter in High Value Customers which are the target of our analysis**\n",
    "\n",
    "* A high-value customers is defined as follows:\n",
    "\n",
    "- Those who have recharged with an amount more than or equal to X, where X is greater than 70th percentile of the average recharge amount in the first two months (the good phase)"
   ]
  },
  {
   "cell_type": "code",
   "execution_count": null,
   "metadata": {},
   "outputs": [],
   "source": [
    "# Create new column total recharge amount for data for aiding in finding High Value customer \n",
    "\n",
    "telecom_df['total_rech_amt_data_6'] = telecom_df.av_rech_amt_data_6 * telecom_df.total_rech_data_6\n",
    "telecom_df['total_rech_amt_data_7'] = telecom_df.av_rech_amt_data_7 * telecom_df.total_rech_data_7\n",
    "telecom_df['total_rech_amt_data_8'] = telecom_df.av_rech_amt_data_8 * telecom_df.total_rech_data_8"
   ]
  },
  {
   "cell_type": "code",
   "execution_count": null,
   "metadata": {},
   "outputs": [],
   "source": [
    "#Create column for holding average of total recharge amount for good phase (the months June (6) and July (7))\n",
    "# We add the total recharge amount of call and data and find the average across two months\n",
    "telecom_df['total_avg_rech_amnt_Good_Phase'] = (telecom_df.total_rech_amt_6 + telecom_df.total_rech_amt_data_6 \\\n",
    "                                               + telecom_df.total_rech_amt_7+ telecom_df.total_rech_amt_data_7)/2"
   ]
  },
  {
   "cell_type": "code",
   "execution_count": null,
   "metadata": {},
   "outputs": [],
   "source": [
    "# filter values greater than 70th percentile of total average recharge amount for good phase \n",
    "seventieth_percentile = telecom_df.total_avg_rech_amnt_Good_Phase.quantile(0.7)\n",
    "\n",
    "telecom_df_high_val_cust = telecom_df[telecom_df.total_avg_rech_amnt_Good_Phase > seventieth_percentile]"
   ]
  },
  {
   "cell_type": "code",
   "execution_count": null,
   "metadata": {},
   "outputs": [],
   "source": [
    "print(\"70th Percentile of Average Recharge amount in Good Phase (June and July month) is \", seventieth_percentile)"
   ]
  },
  {
   "cell_type": "code",
   "execution_count": null,
   "metadata": {},
   "outputs": [],
   "source": [
    "telecom_df_high_val_cust.shape\n"
   ]
  },
  {
   "cell_type": "markdown",
   "metadata": {},
   "source": [
    "**Define the Target Variable Churn based on the following criteria**\n",
    "\n",
    "* A Churned Customer is defined as follows : \n",
    "* A Customer has churned (churn=1, else 0) if in the Ninth Month he/she has not made any calls (either incoming or outgoing) \n",
    "* AND have not used mobile internet even once. \n",
    "\n"
   ]
  },
  {
   "cell_type": "code",
   "execution_count": null,
   "metadata": {},
   "outputs": [],
   "source": [
    "#Add a new column \"churn\", values would be either 1 (churn) or 0 (non-churn)\n",
    "telecom_df_high_val_cust['churn'] = \\\n",
    "        np.where(telecom_df_high_val_cust[['total_ic_mou_9','total_og_mou_9', \\\n",
    "                                           'vol_2g_mb_9', 'vol_3g_mb_9']].sum(axis=1) == 0, 1,0)"
   ]
  },
  {
   "cell_type": "code",
   "execution_count": null,
   "metadata": {},
   "outputs": [],
   "source": [
    "# Find out the % of churn/non churn customers\n",
    "churn_percentage = telecom_df_high_val_cust.churn.value_counts(normalize=True)\n",
    "print(churn_percentage)\n",
    "churn_percentage.plot.bar()\n",
    "plt.show()"
   ]
  },
  {
   "cell_type": "markdown",
   "metadata": {},
   "source": [
    "**Observation** : The churn percentage is around 8%. This indicates that there is a slight imbalance in the dataset which will need to be corrected in modelling"
   ]
  },
  {
   "cell_type": "markdown",
   "metadata": {},
   "source": [
    "**Drop all data of the ninth Month as that is our Target Variable**\n"
   ]
  },
  {
   "cell_type": "code",
   "execution_count": null,
   "metadata": {},
   "outputs": [],
   "source": [
    "churn_month_columns =  telecom_df_high_val_cust.columns[telecom_df_high_val_cust.columns.str.contains('_9')]"
   ]
  },
  {
   "cell_type": "code",
   "execution_count": null,
   "metadata": {
    "scrolled": true
   },
   "outputs": [],
   "source": [
    "churn_month_columns"
   ]
  },
  {
   "cell_type": "code",
   "execution_count": null,
   "metadata": {},
   "outputs": [],
   "source": [
    "# drop all columns corresponding to the churn phase\n",
    "telecom_df_high_val_cust.drop(churn_month_columns,axis=1,inplace=True)"
   ]
  },
  {
   "cell_type": "code",
   "execution_count": null,
   "metadata": {},
   "outputs": [],
   "source": [
    "telecom_df_high_val_cust.shape"
   ]
  },
  {
   "cell_type": "markdown",
   "metadata": {},
   "source": [
    "### Step 4 : EDA ### \n",
    "\n",
    "We will now perform EDA and try to get insights into the data. \n",
    "Based on the insights we could define our approach to training, remove outliers, remove highly correlated variables"
   ]
  },
  {
   "cell_type": "markdown",
   "metadata": {},
   "source": [
    "**Drop Highly Correlated Columns as a PreRequisite to EDA**"
   ]
  },
  {
   "cell_type": "code",
   "execution_count": null,
   "metadata": {},
   "outputs": [],
   "source": [
    "## Creating a copy to avoid regenerating master for each iterations\n",
    "##Check point 1\n",
    "training_df = telecom_df_high_val_cust.copy()"
   ]
  },
  {
   "cell_type": "code",
   "execution_count": null,
   "metadata": {},
   "outputs": [],
   "source": [
    "#Find Highly correlated data and drop Highly Correlated Columns\n",
    "cor = training_df.corr()\n",
    "cor.loc[:,:] = np.tril(cor, k=-1)\n",
    "plt.figure(figsize=(15,10))\n",
    "sns.heatmap(cor, cmap='Greens', annot=False, )\n",
    "plt.show()"
   ]
  },
  {
   "cell_type": "markdown",
   "metadata": {},
   "source": [
    "Looks like there are strong multicollinearity issues, Lets drop data which is multi collinear"
   ]
  },
  {
   "cell_type": "code",
   "execution_count": null,
   "metadata": {},
   "outputs": [],
   "source": [
    "# Create correlation matrix\n",
    "corr_matrix = training_df.corr().abs()\n",
    "\n",
    "# Select upper triangle of correlation matrix\n",
    "upper = corr_matrix.where(np.triu(np.ones(corr_matrix.shape), k=1).astype(np.bool))\n",
    "\n",
    "# Find index of feature columns with correlation greater than 0.85\n",
    "to_drop = [column for column in upper.columns if any(upper[column] > 0.85)]\n",
    "to_drop"
   ]
  },
  {
   "cell_type": "code",
   "execution_count": null,
   "metadata": {},
   "outputs": [],
   "source": [
    "#training_df.drop(to_drop, axis =1, inplace=True)"
   ]
  },
  {
   "cell_type": "code",
   "execution_count": null,
   "metadata": {},
   "outputs": [],
   "source": [
    "training_df.shape"
   ]
  },
  {
   "cell_type": "code",
   "execution_count": null,
   "metadata": {},
   "outputs": [],
   "source": [
    "#Find Highly correlated data and drop Highly Correlated Columns\n",
    "cor = training_df.corr()\n",
    "cor.loc[:,:] = np.tril(cor, k=-1)\n",
    "sns.heatmap(cor, cmap='Greens', annot=False)"
   ]
  },
  {
   "cell_type": "code",
   "execution_count": null,
   "metadata": {},
   "outputs": [],
   "source": [
    "#Checkpoint 2 \n",
    "# We can run from checkpoints rather than run the entire notebook for validation\n",
    "telecom_df_high_val_cust = training_df.copy()"
   ]
  },
  {
   "cell_type": "markdown",
   "metadata": {},
   "source": [
    "#### Univariate Analysis \n",
    "\n",
    "We will trend the distribution of all categorical variables and see if we can draw any meaningful insights"
   ]
  },
  {
   "cell_type": "code",
   "execution_count": null,
   "metadata": {},
   "outputs": [],
   "source": [
    "# Distribution graphs (histogram/bar graph) of column data\n",
    "def plotPerColumnDistribution(df, nGraphShown, nGraphPerRow):\n",
    "    nunique = df.nunique()\n",
    "    df = df[[col for col in df if nunique[col] > 1 and nunique[col] < 50]] # For displaying purposes, pick columns that have between 1 and 50 unique values\n",
    "    nRow, nCol = df.shape\n",
    "    columnNames = list(df)\n",
    "    nGraphRow = (nCol + nGraphPerRow - 1) / nGraphPerRow\n",
    "    plt.figure(num = None, figsize = (6 * nGraphPerRow, 8 * nGraphRow), dpi = 80, facecolor = 'w', edgecolor = 'k')\n",
    "    for i in range(min(nCol, nGraphShown)):\n",
    "        plt.subplot(nGraphRow, nGraphPerRow, i + 1)\n",
    "        columnDf = df.iloc[:, i]\n",
    "        if (not np.issubdtype(type(columnDf.iloc[0]), np.number)):\n",
    "            print(type(columnDf.iloc[0]))\n",
    "            valueCounts = columnDf.value_counts()\n",
    "            valueCounts.plot.bar()\n",
    "        else:\n",
    "            columnDf.hist()\n",
    "        plt.ylabel('counts')\n",
    "        plt.xticks(rotation = 90)\n",
    "        plt.title(f'{columnNames[i]} (column {i})')\n",
    "    plt.tight_layout(pad = 1.0, w_pad = 1.0, h_pad = 1.0)\n",
    "    plt.show()"
   ]
  },
  {
   "cell_type": "code",
   "execution_count": null,
   "metadata": {},
   "outputs": [],
   "source": [
    "plotPerColumnDistribution(telecom_df_high_val_cust,10,5)"
   ]
  },
  {
   "cell_type": "markdown",
   "metadata": {},
   "source": [
    "#### Bi variate Analysis \n",
    "We will draw trends of the all categorical variables data wrt to the Label, Churn and see if we can derive any meaningful insights"
   ]
  },
  {
   "cell_type": "code",
   "execution_count": null,
   "metadata": {},
   "outputs": [],
   "source": [
    "# create box plot for  6th, 7th and 8th month\n",
    "def create_box_plot(column):\n",
    "    plt.figure(figsize=(15,10))\n",
    "    df = telecom_df_high_val_cust\n",
    "    plt.subplot(2,3,1)\n",
    "    sns.boxplot(data=df, y=column+\"_6\",x=\"churn\", showfliers=False)\n",
    "    plt.subplot(2,3,2)\n",
    "    sns.boxplot(data=df, y=column+\"_7\",x=\"churn\", showfliers=False)\n",
    "    plt.subplot(2,3,3)\n",
    "    sns.boxplot(data=df, y=column+\"_8\",x=\"churn\", showfliers=False)\n",
    "    plt.tight_layout(pad = 1.0, w_pad = 1.0, h_pad = 1.0)\n",
    "    plt.show()"
   ]
  },
  {
   "cell_type": "code",
   "execution_count": null,
   "metadata": {},
   "outputs": [],
   "source": [
    "# create box plot for  6th, 7th and 8th month\n",
    "def create_bar_plot(column):\n",
    "    plt.figure(figsize=(15,10))\n",
    "    df = telecom_df_high_val_cust\n",
    "    plt.subplot(2,3,1)\n",
    "    sns.barplot(data=df, y=column+\"_6\",x=\"churn\")\n",
    "    plt.subplot(2,3,2)\n",
    "    sns.barplot(data=df, y=column+\"_7\",x=\"churn\")\n",
    "    plt.subplot(2,3,3)\n",
    "    sns.barplot(data=df, y=column+\"_8\",x=\"churn\")\n",
    "    plt.tight_layout(pad = 1.0, w_pad = 1.0, h_pad = 1.0)\n",
    "    plt.show()"
   ]
  },
  {
   "cell_type": "code",
   "execution_count": null,
   "metadata": {},
   "outputs": [],
   "source": [
    "def showbarlabel(graph, rotate=0):\n",
    "    graph.set_xticklabels(graph.get_xticklabels(),rotation=rotate)\n",
    "    for p in graph.patches:\n",
    "        height = p.get_height()\n",
    "        graph.text(p.get_x()+p.get_width()/2., height + 0.1,height ,ha=\"center\")"
   ]
  },
  {
   "cell_type": "code",
   "execution_count": null,
   "metadata": {},
   "outputs": [],
   "source": [
    "def plot_bar(by,rotate=0):\n",
    "    df = telecom_df_high_val_cust\n",
    "    graph = df[by].value_counts(sort=True).plot(kind='bar')\n",
    "    showbarlabel(graph,rotate)"
   ]
  },
  {
   "cell_type": "code",
   "execution_count": null,
   "metadata": {},
   "outputs": [],
   "source": [
    "# all Recharge Amount related column list\n",
    "recharge_amnt_columns = [col for col in telecom_df_high_val_cust if 'rech_amt' in col.lower()]\n",
    "recharge_amnt_columns"
   ]
  },
  {
   "cell_type": "code",
   "execution_count": null,
   "metadata": {},
   "outputs": [],
   "source": [
    "100*telecom_df_high_val_cust[recharge_amnt_columns].isnull().sum()/len(telecom_df_high_val_cust.index)\n",
    "# We don't have any missing values here"
   ]
  },
  {
   "cell_type": "code",
   "execution_count": null,
   "metadata": {},
   "outputs": [],
   "source": [
    "# Ploting for Total recharge amount :\n",
    "create_box_plot('total_rech_amt')"
   ]
  },
  {
   "cell_type": "markdown",
   "metadata": {},
   "source": [
    "Total Recharge amount drops in month 8 indicating Churn "
   ]
  },
  {
   "cell_type": "code",
   "execution_count": null,
   "metadata": {},
   "outputs": [],
   "source": [
    "# Ploting for maximum recharge amount :\n",
    "create_box_plot('max_rech_amt')"
   ]
  },
  {
   "cell_type": "markdown",
   "metadata": {},
   "source": [
    "We can see that there is a huge drop in maximum recharge amount for churned customers in the 8th month i.e action phase\n"
   ]
  },
  {
   "cell_type": "code",
   "execution_count": null,
   "metadata": {},
   "outputs": [],
   "source": [
    "create_box_plot('av_rech_amt_data')"
   ]
  },
  {
   "cell_type": "markdown",
   "metadata": {},
   "source": [
    "Average Recharge amount drops in month 8 indicating Churn "
   ]
  },
  {
   "cell_type": "code",
   "execution_count": null,
   "metadata": {},
   "outputs": [],
   "source": [
    "# Ploting for total recharge amount data :\n",
    "create_box_plot('total_rech_amt_data')\n"
   ]
  },
  {
   "cell_type": "markdown",
   "metadata": {},
   "source": [
    "We can see a drop in the total recharge for data for churned customers in the 8th Month i.e Action Phase"
   ]
  },
  {
   "cell_type": "code",
   "execution_count": null,
   "metadata": {},
   "outputs": [],
   "source": [
    "# all Recharge Number related column list\n",
    "recharge_num_columns = [col for col in telecom_df_high_val_cust if 'rech_num' in col.lower()]\n",
    "recharge_num_columns"
   ]
  },
  {
   "cell_type": "code",
   "execution_count": null,
   "metadata": {},
   "outputs": [],
   "source": [
    "100*telecom_df_high_val_cust[recharge_num_columns].isnull().sum()/len(telecom_df_high_val_cust.index)\n",
    "# We don't have any missing values here"
   ]
  },
  {
   "cell_type": "code",
   "execution_count": null,
   "metadata": {},
   "outputs": [],
   "source": [
    "# Ploting for total recharge number:\n",
    "create_box_plot('total_rech_num')"
   ]
  },
  {
   "cell_type": "markdown",
   "metadata": {},
   "source": [
    "We can see that there is a huge drop in total recharge number for churned customers in the 8th month i.e action phase"
   ]
  },
  {
   "cell_type": "code",
   "execution_count": null,
   "metadata": {},
   "outputs": [],
   "source": [
    "# all Recharge data related column list\n",
    "recharge_data_columns = [col for col in telecom_df_high_val_cust if 'rech_data' in col.lower()]\n",
    "recharge_data_columns"
   ]
  },
  {
   "cell_type": "code",
   "execution_count": null,
   "metadata": {},
   "outputs": [],
   "source": [
    "100*telecom_df_high_val_cust[recharge_data_columns].isnull().sum()/len(telecom_df_high_val_cust.index)\n",
    "# We don't have any missing values here"
   ]
  },
  {
   "cell_type": "code",
   "execution_count": null,
   "metadata": {},
   "outputs": [],
   "source": [
    "# Ploting for total recharge data:\n",
    "create_box_plot('total_rech_data')"
   ]
  },
  {
   "cell_type": "markdown",
   "metadata": {},
   "source": [
    "Again we can see that there is a huge drop in total recharge amount data for churned customers in the 8th month i.e action phase"
   ]
  },
  {
   "cell_type": "code",
   "execution_count": null,
   "metadata": {},
   "outputs": [],
   "source": [
    "# Ploting for max recharge for data:\n",
    "create_box_plot('max_rech_data')"
   ]
  },
  {
   "cell_type": "markdown",
   "metadata": {},
   "source": [
    "There is a huge drop in max recharge amount data for churned customers in the 8th month i.e action phase "
   ]
  },
  {
   "cell_type": "code",
   "execution_count": null,
   "metadata": {},
   "outputs": [],
   "source": [
    "# Ploting for Last  day recharge amount  :\n",
    "create_box_plot('last_day_rch_amt')"
   ]
  },
  {
   "cell_type": "markdown",
   "metadata": {},
   "source": [
    " We are seeing a huge drop in recharge amount for churned customers in the 8th month i.e Action phase "
   ]
  },
  {
   "cell_type": "code",
   "execution_count": null,
   "metadata": {},
   "outputs": [],
   "source": [
    "all_2g_3g_columns =   telecom_df_high_val_cust.columns[telecom_df_high_val_cust.columns.str.contains('2g|3g')]\n",
    "                                                                     \n",
    "all_2g_3g_columns"
   ]
  },
  {
   "cell_type": "code",
   "execution_count": null,
   "metadata": {},
   "outputs": [],
   "source": [
    "100*telecom_df_high_val_cust[all_2g_3g_columns].isnull().sum()/len(telecom_df_high_val_cust.index)\n",
    "# We don't have any missing values here"
   ]
  },
  {
   "cell_type": "code",
   "execution_count": null,
   "metadata": {},
   "outputs": [],
   "source": [
    "# Ploting for volume of 2G and 3G usage columns:\n",
    "create_box_plot('vol_2g_mb')\n",
    "create_box_plot('vol_3g_mb')"
   ]
  },
  {
   "cell_type": "markdown",
   "metadata": {},
   "source": [
    "**Observation** \n",
    "We see 2g and 3g usage for churned customers drops in the 8th month i.e Action phase.\n",
    "\n",
    "However in general we see the usage is low for churned customer across months. "
   ]
  },
  {
   "cell_type": "code",
   "execution_count": null,
   "metadata": {},
   "outputs": [],
   "source": [
    "# Ploting for count of 2G and 3G recharge columns:\n",
    "create_bar_plot('count_rech_2g')\n",
    "create_bar_plot('count_rech_3g')"
   ]
  },
  {
   "cell_type": "markdown",
   "metadata": {},
   "source": [
    "**Observation** \n",
    "We see 2g and 3g recharge counts for churned customers drops in the 8th month i.e Action phase.\n",
    "\n"
   ]
  },
  {
   "cell_type": "code",
   "execution_count": null,
   "metadata": {},
   "outputs": [],
   "source": [
    "# Ploting for arpu of 2G and 3G usage columns:\n",
    "create_box_plot('arpu_2g')\n",
    "create_box_plot('arpu_3g')"
   ]
  },
  {
   "cell_type": "code",
   "execution_count": null,
   "metadata": {},
   "outputs": [],
   "source": [
    "# Ploting bar plot for arpu of 2G and 3G usage columns:\n",
    "create_bar_plot('arpu_2g')\n",
    "create_bar_plot('arpu_3g')"
   ]
  },
  {
   "cell_type": "markdown",
   "metadata": {},
   "source": [
    "**Observation** \n",
    "We see 2g and 3g arpu for churned customers drops in the 8th month i.e Action phase.\n",
    "\n"
   ]
  },
  {
   "cell_type": "code",
   "execution_count": null,
   "metadata": {},
   "outputs": [],
   "source": [
    "# Ploting for monthly subcription of 2G and 3G usage columns:\n",
    "create_box_plot('monthly_2g')\n",
    "create_box_plot('monthly_3g')"
   ]
  },
  {
   "cell_type": "code",
   "execution_count": null,
   "metadata": {},
   "outputs": [],
   "source": [
    "# Plotting a bar plot as box plot doesn't show any pattern\n",
    "create_bar_plot('monthly_2g')\n",
    "create_bar_plot('monthly_3g')"
   ]
  },
  {
   "cell_type": "markdown",
   "metadata": {},
   "source": [
    "**Observation** \n",
    "We see 2g and 3g monthly subscription for churned customers drops in the 8th month i.e Action phase.\n",
    "\n"
   ]
  },
  {
   "cell_type": "code",
   "execution_count": null,
   "metadata": {},
   "outputs": [],
   "source": [
    "# Plotting for small duration subscription of 2g and 3g data\n",
    "# Plotting a bar plot as box plot doesn't show any pattern\n",
    "create_bar_plot('sachet_2g')\n",
    "create_bar_plot('sachet_3g')"
   ]
  },
  {
   "cell_type": "markdown",
   "metadata": {},
   "source": [
    "**Observation** \n",
    "We see 2g and 3g small duration subscription for churned customers drops in the 8th month i.e Action phase.\n",
    "\n",
    "\n",
    "\n"
   ]
  },
  {
   "cell_type": "code",
   "execution_count": null,
   "metadata": {},
   "outputs": [],
   "source": [
    "#Plotting volume based 3g usage\n",
    "create_bar_plot('vbc_3g')"
   ]
  },
  {
   "cell_type": "markdown",
   "metadata": {},
   "source": [
    "Volume based 3G usage is much lower for Churned customers and also there is a drop in vbc in 8th month"
   ]
  },
  {
   "cell_type": "code",
   "execution_count": null,
   "metadata": {},
   "outputs": [],
   "source": [
    "#Getting the  day  columns\n",
    "day_columns = [col for col in telecom_df_high_val_cust if 'day' in col.lower()]\n",
    "day_columns"
   ]
  },
  {
   "cell_type": "code",
   "execution_count": null,
   "metadata": {},
   "outputs": [],
   "source": [
    "100*telecom_df_high_val_cust[day_columns].isnull().sum()/len(telecom_df_high_val_cust.index)\n",
    "# We don't have any missing values here"
   ]
  },
  {
   "cell_type": "code",
   "execution_count": null,
   "metadata": {},
   "outputs": [],
   "source": [
    "create_box_plot('last_day_rch_amt')"
   ]
  },
  {
   "cell_type": "markdown",
   "metadata": {},
   "source": [
    "Huge drop in 8th month for last day recharge amount indicating  churn"
   ]
  },
  {
   "cell_type": "code",
   "execution_count": null,
   "metadata": {},
   "outputs": [],
   "source": [
    "# all Date column list\n",
    "date_columns = [col for col in telecom_df_high_val_cust if 'date' in col.lower()]\n",
    "date_columns"
   ]
  },
  {
   "cell_type": "code",
   "execution_count": null,
   "metadata": {},
   "outputs": [],
   "source": [
    "100*telecom_df_high_val_cust[date_columns].isnull().sum()/len(telecom_df_high_val_cust.index)\n"
   ]
  },
  {
   "cell_type": "markdown",
   "metadata": {},
   "source": [
    "The missing value indicates that recharge date and the recharge value are missing together which means the customer didn't recharge for that month"
   ]
  },
  {
   "cell_type": "code",
   "execution_count": null,
   "metadata": {
    "scrolled": false
   },
   "outputs": [],
   "source": [
    "telecom_df_high_val_cust[telecom_df_high_val_cust.date_of_last_rech_6.isnull()][['total_rech_data_6','date_of_last_rech_6']].head()"
   ]
  },
  {
   "cell_type": "code",
   "execution_count": null,
   "metadata": {},
   "outputs": [],
   "source": [
    "#Plot for ARPU \n",
    "create_box_plot('arpu')"
   ]
  },
  {
   "cell_type": "markdown",
   "metadata": {},
   "source": [
    "**Observation** \n",
    "We see the ARPU for churned customers drops in the 8th month i.e Action phase.\n",
    "\n"
   ]
  },
  {
   "cell_type": "code",
   "execution_count": null,
   "metadata": {},
   "outputs": [],
   "source": [
    "# all Minutes of Usage column list\n",
    "mou_columns = [col for col in telecom_df_high_val_cust if 'mou' in col.lower()]\n",
    "mou_columns"
   ]
  },
  {
   "cell_type": "code",
   "execution_count": null,
   "metadata": {},
   "outputs": [],
   "source": [
    "missing_mou_columns = 100*telecom_df_high_val_cust[mou_columns].isnull().sum()/len(telecom_df_high_val_cust.index)\n",
    "missing_mou_columns"
   ]
  },
  {
   "cell_type": "code",
   "execution_count": null,
   "metadata": {},
   "outputs": [],
   "source": [
    "#Using set to have unique columns at the end after stripping month suffix\n",
    "missing_mou_col_without_suffix = set()\n",
    "\n",
    "for colname  in missing_mou_columns.index:\n",
    "    missing_mou_col_without_suffix.add(str(colname)[:-2])"
   ]
  },
  {
   "cell_type": "code",
   "execution_count": null,
   "metadata": {},
   "outputs": [],
   "source": [
    "missing_mou_col_without_suffix"
   ]
  },
  {
   "cell_type": "markdown",
   "metadata": {},
   "source": [
    "We can fill the missing values with zero as it would be that the customer didn't use these services at all"
   ]
  },
  {
   "cell_type": "code",
   "execution_count": null,
   "metadata": {},
   "outputs": [],
   "source": [
    "impute_zero_in_missing(telecom_df_high_val_cust, missing_mou_col_without_suffix)\n",
    "100*telecom_df_high_val_cust[mou_columns].isnull().sum()/len(telecom_df_high_val_cust.index)"
   ]
  },
  {
   "cell_type": "code",
   "execution_count": null,
   "metadata": {},
   "outputs": [],
   "source": [
    "#Plot for Onnet Minutes of Usage\n",
    "create_box_plot('onnet_mou')"
   ]
  },
  {
   "cell_type": "markdown",
   "metadata": {},
   "source": [
    "The calls on service provider network drops in month 8 indicates Churn"
   ]
  },
  {
   "cell_type": "code",
   "execution_count": null,
   "metadata": {},
   "outputs": [],
   "source": [
    "#Plot for Offnet Minutes of Usage\n",
    "create_box_plot('offnet_mou')"
   ]
  },
  {
   "cell_type": "markdown",
   "metadata": {},
   "source": [
    "The calls to different network drops in month 8 indicates Churn"
   ]
  },
  {
   "cell_type": "code",
   "execution_count": null,
   "metadata": {},
   "outputs": [],
   "source": []
  }
 ],
 "metadata": {
  "kernelspec": {
   "display_name": "Python 3",
   "language": "python",
   "name": "python3"
  },
  "language_info": {
   "codemirror_mode": {
    "name": "ipython",
    "version": 3
   },
   "file_extension": ".py",
   "mimetype": "text/x-python",
   "name": "python",
   "nbconvert_exporter": "python",
   "pygments_lexer": "ipython3",
   "version": "3.8.5"
  }
 },
 "nbformat": 4,
 "nbformat_minor": 4
}
